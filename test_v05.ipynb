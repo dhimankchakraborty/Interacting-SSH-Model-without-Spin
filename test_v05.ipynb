{
 "cells": [
  {
   "cell_type": "code",
   "execution_count": 1,
   "id": "bc80ec20",
   "metadata": {},
   "outputs": [],
   "source": [
    "import numpy as np\n",
    "from scipy.sparse import csr_matrix, csc_matrix\n",
    "from scipy.sparse.linalg import eigsh\n",
    "import matplotlib.pyplot as plt\n",
    "from itertools import combinations"
   ]
  },
  {
   "cell_type": "code",
   "execution_count": null,
   "id": "8f5e6468",
   "metadata": {},
   "outputs": [],
   "source": [
    "def generate_basis(N_sites, N_particles): # Checked OK\n",
    "    \"\"\"Generate all Fock basis states with N_particles electrons.\"\"\"\n",
    "    basis = []\n",
    "    for comb in combinations(range(N_sites), N_particles):\n",
    "        state = [0] * N_sites\n",
    "        for idx in comb:\n",
    "            state[idx] = 1\n",
    "        basis.append(tuple(state))\n",
    "    return basis"
   ]
  },
  {
   "cell_type": "code",
   "execution_count": null,
   "id": "2e34b9f9",
   "metadata": {},
   "outputs": [],
   "source": [
    "def fock_state_to_index(basis): # Checked OK\n",
    "    \"\"\"Map each Fock state to its index in the basis.\"\"\"\n",
    "    \n",
    "    return {state: i for i, state in enumerate(basis)}"
   ]
  },
  {
   "cell_type": "code",
   "execution_count": null,
   "id": "a4478b9b",
   "metadata": {},
   "outputs": [],
   "source": [
    "def apply_annihilation(state, i): # Checked OK\n",
    "    if state[i] == 0:\n",
    "        return None, 0\n",
    "    new_state = list(state)\n",
    "    new_state[i] = 0\n",
    "    sign = 1\n",
    "    for j in range(i):\n",
    "        if state[j] == 1:\n",
    "            sign *= -1\n",
    "    return tuple(new_state), sign\n",
    "\n",
    "def apply_creation(state, i): # Checked OK\n",
    "    if state[i] == 1:\n",
    "        return None, 0\n",
    "    new_state = list(state)\n",
    "    new_state[i] = 1\n",
    "    sign = 1\n",
    "    for j in range(i):\n",
    "        if state[j] == 1:\n",
    "            sign *= -1\n",
    "    return tuple(new_state), sign"
   ]
  },
  {
   "cell_type": "code",
   "execution_count": 30,
   "id": "0c06e729",
   "metadata": {},
   "outputs": [],
   "source": [
    "def build_Hamiltonian(basis, N_unit_cells, v, w):\n",
    "    dim = len(basis)\n",
    "    H = csr_matrix((dim, dim), dtype=np.float64)\n",
    "    state_to_idx = fock_state_to_index(basis)\n",
    "\n",
    "    for idx, state in enumerate(basis):\n",
    "        # Intra-cell hopping: A <-> B\n",
    "        for i in range(N_unit_cells):\n",
    "            site_A = 2*i\n",
    "            site_B = 2*i + 1\n",
    "\n",
    "            # B -> A\n",
    "            down_state, sign_down = apply_annihilation(state, site_B)\n",
    "            if down_state is not None:\n",
    "                up_state, sign_up = apply_creation(down_state, site_A)\n",
    "                if up_state in state_to_idx:\n",
    "                    jdx = state_to_idx[up_state]\n",
    "                    H[jdx, idx] += v * sign_up * sign_down\n",
    "\n",
    "            # A -> B (h.c.)\n",
    "            down_state, sign_down = apply_annihilation(state, site_A)\n",
    "            if down_state is not None:\n",
    "                up_state, sign_up = apply_creation(down_state, site_B)\n",
    "                if up_state in state_to_idx:\n",
    "                    jdx = state_to_idx[up_state]\n",
    "                    H[jdx, idx] += v * sign_up * sign_down\n",
    "\n",
    "        # Inter-cell hopping: A_{i+1} <-> B_i\n",
    "        for i in range(N_unit_cells - 1):\n",
    "            site_B = 2*i + 1\n",
    "            site_A_next = 2*(i+1)\n",
    "\n",
    "            # B_i -> A_{i+1}\n",
    "            down_state, sign_down = apply_annihilation(state, site_B)\n",
    "            if down_state is not None:\n",
    "                up_state, sign_up = apply_creation(down_state, site_A_next)\n",
    "                if up_state in state_to_idx:\n",
    "                    jdx = state_to_idx[up_state]\n",
    "                    H[jdx, idx] += w * sign_up * sign_down\n",
    "\n",
    "            # A_{i+1} -> B_i (h.c.)\n",
    "            down_state, sign_down = apply_annihilation(state, site_A_next)\n",
    "            if down_state is not None:\n",
    "                up_state, sign_up = apply_creation(down_state, site_B)\n",
    "                if up_state in state_to_idx:\n",
    "                    jdx = state_to_idx[up_state]\n",
    "                    H[jdx, idx] += w * sign_up * sign_down\n",
    "\n",
    "    return H"
   ]
  },
  {
   "cell_type": "code",
   "execution_count": 51,
   "id": "a9bcf33c",
   "metadata": {},
   "outputs": [],
   "source": [
    "N_unit_cells = 4\n",
    "v = 1\n",
    "w = 2\n",
    "N_orbitals = 2 * N_unit_cells\n",
    "N_particles = N_unit_cells"
   ]
  },
  {
   "cell_type": "code",
   "execution_count": 52,
   "id": "ae8f5d75",
   "metadata": {},
   "outputs": [
    {
     "name": "stdout",
     "output_type": "stream",
     "text": [
      "70\n"
     ]
    }
   ],
   "source": [
    "basis = generate_basis(N_orbitals, N_particles)\n",
    "print(len(basis))"
   ]
  },
  {
   "cell_type": "code",
   "execution_count": 15,
   "id": "3bd71b18",
   "metadata": {},
   "outputs": [
    {
     "name": "stdout",
     "output_type": "stream",
     "text": [
      "{(1, 1, 0, 0): 0, (1, 0, 1, 0): 1, (1, 0, 0, 1): 2, (0, 1, 1, 0): 3, (0, 1, 0, 1): 4, (0, 0, 1, 1): 5}\n"
     ]
    }
   ],
   "source": [
    "state_to_idx = fock_state_to_index(basis)\n",
    "print(state_to_idx)"
   ]
  },
  {
   "cell_type": "code",
   "execution_count": 19,
   "id": "92ff7062",
   "metadata": {},
   "outputs": [
    {
     "name": "stdout",
     "output_type": "stream",
     "text": [
      "((1, 1, 1, 0), 1)\n"
     ]
    }
   ],
   "source": [
    "print(apply_creation(basis[0], 2))"
   ]
  },
  {
   "cell_type": "code",
   "execution_count": 53,
   "id": "d90a94b5",
   "metadata": {},
   "outputs": [
    {
     "name": "stdout",
     "output_type": "stream",
     "text": [
      "<Compressed Sparse Row sparse matrix of dtype 'float64'\n",
      "\twith 280 stored elements and shape (70, 70)>\n",
      "  Coords\tValues\n",
      "  (0, 1)\t2.0\n",
      "  (1, 0)\t2.0\n",
      "  (1, 2)\t1.0\n",
      "  (1, 5)\t1.0\n",
      "  (2, 1)\t1.0\n",
      "  (2, 3)\t2.0\n",
      "  (2, 6)\t1.0\n",
      "  (3, 2)\t2.0\n",
      "  (3, 4)\t1.0\n",
      "  (3, 7)\t1.0\n",
      "  (4, 3)\t1.0\n",
      "  (4, 8)\t1.0\n",
      "  (5, 1)\t1.0\n",
      "  (5, 6)\t1.0\n",
      "  (5, 15)\t2.0\n",
      "  (6, 2)\t1.0\n",
      "  (6, 5)\t1.0\n",
      "  (6, 7)\t2.0\n",
      "  (6, 9)\t2.0\n",
      "  (6, 16)\t2.0\n",
      "  (7, 3)\t1.0\n",
      "  (7, 6)\t2.0\n",
      "  (7, 8)\t1.0\n",
      "  (7, 10)\t2.0\n",
      "  (7, 17)\t2.0\n",
      "  :\t:\n",
      "  (62, 52)\t2.0\n",
      "  (62, 59)\t2.0\n",
      "  (62, 61)\t1.0\n",
      "  (62, 63)\t2.0\n",
      "  (62, 66)\t1.0\n",
      "  (63, 53)\t2.0\n",
      "  (63, 60)\t2.0\n",
      "  (63, 62)\t2.0\n",
      "  (63, 64)\t1.0\n",
      "  (63, 67)\t1.0\n",
      "  (64, 54)\t2.0\n",
      "  (64, 63)\t1.0\n",
      "  (64, 68)\t1.0\n",
      "  (65, 61)\t1.0\n",
      "  (65, 66)\t1.0\n",
      "  (66, 62)\t1.0\n",
      "  (66, 65)\t1.0\n",
      "  (66, 67)\t2.0\n",
      "  (67, 63)\t1.0\n",
      "  (67, 66)\t2.0\n",
      "  (67, 68)\t1.0\n",
      "  (68, 64)\t1.0\n",
      "  (68, 67)\t1.0\n",
      "  (68, 69)\t2.0\n",
      "  (69, 68)\t2.0\n"
     ]
    },
    {
     "name": "stderr",
     "output_type": "stream",
     "text": [
      "c:\\Users\\DHIMAN\\AppData\\Local\\Programs\\Python\\Python313\\Lib\\site-packages\\scipy\\sparse\\_index.py:168: SparseEfficiencyWarning: Changing the sparsity structure of a csr_matrix is expensive. lil and dok are more efficient.\n",
      "  self._set_intXint(row, col, x.flat[0])\n"
     ]
    }
   ],
   "source": [
    "H = build_Hamiltonian(basis, N_unit_cells, v, w)\n",
    "print(H)"
   ]
  },
  {
   "cell_type": "code",
   "execution_count": 54,
   "id": "068e17d7",
   "metadata": {},
   "outputs": [],
   "source": [
    "eigenvalues, eigenvectors = np.linalg.eigh(H.toarray())"
   ]
  },
  {
   "cell_type": "code",
   "execution_count": 55,
   "id": "8972f2a2",
   "metadata": {},
   "outputs": [
    {
     "name": "stdout",
     "output_type": "stream",
     "text": [
      "[-6.85406818e+00 -6.66449300e+00 -5.15908490e+00 -5.15908490e+00\n",
      " -4.42703409e+00 -4.42703409e+00 -3.93244219e+00 -3.93244219e+00\n",
      " -3.65367679e+00 -3.46410162e+00 -2.92162598e+00 -2.92162598e+00\n",
      " -2.73205081e+00 -2.73205081e+00 -2.42703409e+00 -2.42703409e+00\n",
      " -2.23745891e+00 -2.23745891e+00 -2.18957518e+00 -2.00000000e+00\n",
      " -1.69498328e+00 -1.69498328e+00 -1.50540811e+00 -1.50540811e+00\n",
      " -1.22664270e+00 -1.22664270e+00 -1.20039139e+00 -1.01081621e+00\n",
      " -7.32050808e-01 -7.32050808e-01 -4.94591894e-01 -4.94591894e-01\n",
      " -1.80361341e-15 -1.03275891e-15 -4.74344379e-16 -3.65052215e-16\n",
      "  1.77028226e-15  3.22454111e-15  4.94591894e-01  4.94591894e-01\n",
      "  7.32050808e-01  7.32050808e-01  1.01081621e+00  1.20039139e+00\n",
      "  1.22664270e+00  1.22664270e+00  1.50540811e+00  1.50540811e+00\n",
      "  1.69498328e+00  1.69498328e+00  2.00000000e+00  2.18957518e+00\n",
      "  2.23745891e+00  2.23745891e+00  2.42703409e+00  2.42703409e+00\n",
      "  2.73205081e+00  2.73205081e+00  2.92162598e+00  2.92162598e+00\n",
      "  3.46410162e+00  3.65367679e+00  3.93244219e+00  3.93244219e+00\n",
      "  4.42703409e+00  4.42703409e+00  5.15908490e+00  5.15908490e+00\n",
      "  6.66449300e+00  6.85406818e+00]\n"
     ]
    }
   ],
   "source": [
    "print(eigenvalues)"
   ]
  },
  {
   "cell_type": "code",
   "execution_count": 56,
   "id": "1627ccbf",
   "metadata": {},
   "outputs": [],
   "source": [
    "wf_ps = np.zeros((len(basis), len(basis[0])))\n",
    "\n",
    "basis = np.array(basis)\n",
    "for j, state in enumerate(eigenvectors):\n",
    "    for i, weight in enumerate(state):\n",
    "        wf_ps[j] += weight * basis[i]"
   ]
  },
  {
   "cell_type": "code",
   "execution_count": null,
   "id": "8df39ed7",
   "metadata": {},
   "outputs": [],
   "source": [
    "sites_arr = np.arange(N_unit_cells*2)\n",
    "for i, wf in enumerate(wf_ps):\n",
    "    # plt.plot(sites_arr, wf, label=f'{i}')\n",
    "    plt.plot(sites_arr, wf**2, label=f'{i}')\n",
    "    plt.legend()\n",
    "    plt.grid()\n",
    "    plt.show()\n"
   ]
  }
 ],
 "metadata": {
  "kernelspec": {
   "display_name": "Python 3",
   "language": "python",
   "name": "python3"
  },
  "language_info": {
   "codemirror_mode": {
    "name": "ipython",
    "version": 3
   },
   "file_extension": ".py",
   "mimetype": "text/x-python",
   "name": "python",
   "nbconvert_exporter": "python",
   "pygments_lexer": "ipython3",
   "version": "3.13.4"
  }
 },
 "nbformat": 4,
 "nbformat_minor": 5
}
