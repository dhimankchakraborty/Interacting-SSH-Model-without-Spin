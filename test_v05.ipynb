{
 "cells": [
  {
   "cell_type": "code",
   "execution_count": 1,
   "id": "bc80ec20",
   "metadata": {},
   "outputs": [],
   "source": [
    "import numpy as np\n",
    "from scipy.sparse import csr_matrix, csc_matrix\n",
    "from scipy.sparse.linalg import eigsh\n",
    "import matplotlib.pyplot as plt\n",
    "from itertools import combinations"
   ]
  },
  {
   "cell_type": "code",
   "execution_count": null,
   "id": "8f5e6468",
   "metadata": {},
   "outputs": [],
   "source": [
    "def generate_basis(N_sites, N_particles): # Checked OK\n",
    "    \"\"\"Generate all Fock basis states with N_particles electrons.\"\"\"\n",
    "    basis = []\n",
    "    for comb in combinations(range(N_sites), N_particles):\n",
    "        state = [0] * N_sites\n",
    "        for idx in comb:\n",
    "            state[idx] = 1\n",
    "        basis.append(tuple(state))\n",
    "    return basis"
   ]
  },
  {
   "cell_type": "code",
   "execution_count": null,
   "id": "2e34b9f9",
   "metadata": {},
   "outputs": [],
   "source": [
    "def fock_state_to_index(basis): # Checked OK\n",
    "    \"\"\"Map each Fock state to its index in the basis.\"\"\"\n",
    "    \n",
    "    return {state: i for i, state in enumerate(basis)}"
   ]
  },
  {
   "cell_type": "code",
   "execution_count": null,
   "id": "a4478b9b",
   "metadata": {},
   "outputs": [],
   "source": [
    "def apply_annihilation(state, i): # Checked OK\n",
    "    if state[i] == 0:\n",
    "        return None, 0\n",
    "    new_state = list(state)\n",
    "    new_state[i] = 0\n",
    "    sign = 1\n",
    "    for j in range(i):\n",
    "        if state[j] == 1:\n",
    "            sign *= -1\n",
    "    return tuple(new_state), sign\n",
    "\n",
    "def apply_creation(state, i): # Checked OK\n",
    "    if state[i] == 1:\n",
    "        return None, 0\n",
    "    new_state = list(state)\n",
    "    new_state[i] = 1\n",
    "    sign = 1\n",
    "    for j in range(i):\n",
    "        if state[j] == 1:\n",
    "            sign *= -1\n",
    "    return tuple(new_state), sign"
   ]
  },
  {
   "cell_type": "code",
   "execution_count": 21,
   "id": "0c06e729",
   "metadata": {},
   "outputs": [],
   "source": [
    "def build_Hamiltonian(basis, N_unit_cells, v, w):\n",
    "    dim = len(basis)\n",
    "    H = csr_matrix((dim, dim), dtype=np.float64)\n",
    "    state_to_idx = fock_state_to_index(basis)\n",
    "\n",
    "    for idx, state in enumerate(basis):\n",
    "        # Intra-cell hopping: A <-> B\n",
    "        for i in range(N_unit_cells):\n",
    "            site_A = 2*i\n",
    "            site_B = 2*i + 1\n",
    "\n",
    "            # B -> A\n",
    "            down_state, sign_down = apply_annihilation(state, site_B)\n",
    "            if down_state is not None:\n",
    "                up_state, sign_up = apply_creation(down_state, site_A)\n",
    "                if up_state in state_to_idx:\n",
    "                    jdx = state_to_idx[up_state]\n",
    "                    H[jdx, idx] += v * sign_up * sign_down\n",
    "\n",
    "            # A -> B (h.c.)\n",
    "            down_state, sign_down = apply_annihilation(state, site_A)\n",
    "            if down_state is not None:\n",
    "                up_state, sign_up = apply_creation(down_state, site_B)\n",
    "                if up_state in state_to_idx:\n",
    "                    jdx = state_to_idx[up_state]\n",
    "                    H[jdx, idx] += v * sign_up * sign_down\n",
    "\n",
    "        # Inter-cell hopping: A_{i+1} <-> B_i\n",
    "        for i in range(N_unit_cells - 1):\n",
    "            site_B = 2*i + 1\n",
    "            site_A_next = 2*(i+1)\n",
    "\n",
    "            # B_i -> A_{i+1}\n",
    "            down_state, sign_down = apply_annihilation(state, site_B)\n",
    "            if down_state is not None:\n",
    "                up_state, sign_up = apply_creation(down_state, site_A_next)\n",
    "                if up_state in state_to_idx:\n",
    "                    jdx = state_to_idx[up_state]\n",
    "                    H[jdx, idx] += w * sign_up * sign_down\n",
    "\n",
    "            # A_{i+1} -> B_i (h.c.)\n",
    "            down_state, sign_down = apply_annihilation(state, site_A_next)\n",
    "            if down_state is not None:\n",
    "                up_state, sign_up = apply_creation(down_state, site_B)\n",
    "                if up_state in state_to_idx:\n",
    "                    jdx = state_to_idx[up_state]\n",
    "                    H[jdx, idx] += w * sign_up * sign_down\n",
    "\n",
    "    return H"
   ]
  },
  {
   "cell_type": "code",
   "execution_count": 14,
   "id": "ae8f5d75",
   "metadata": {},
   "outputs": [
    {
     "name": "stdout",
     "output_type": "stream",
     "text": [
      "[(1, 1, 0, 0), (1, 0, 1, 0), (1, 0, 0, 1), (0, 1, 1, 0), (0, 1, 0, 1), (0, 0, 1, 1)]\n"
     ]
    }
   ],
   "source": [
    "basis = generate_basis(4, 2)\n",
    "print(basis)"
   ]
  },
  {
   "cell_type": "code",
   "execution_count": 15,
   "id": "3bd71b18",
   "metadata": {},
   "outputs": [
    {
     "name": "stdout",
     "output_type": "stream",
     "text": [
      "{(1, 1, 0, 0): 0, (1, 0, 1, 0): 1, (1, 0, 0, 1): 2, (0, 1, 1, 0): 3, (0, 1, 0, 1): 4, (0, 0, 1, 1): 5}\n"
     ]
    }
   ],
   "source": [
    "state_to_idx = fock_state_to_index(basis)\n",
    "print(state_to_idx)"
   ]
  },
  {
   "cell_type": "code",
   "execution_count": 19,
   "id": "92ff7062",
   "metadata": {},
   "outputs": [
    {
     "name": "stdout",
     "output_type": "stream",
     "text": [
      "((1, 1, 1, 0), 1)\n"
     ]
    }
   ],
   "source": [
    "print(apply_creation(basis[0], 2))"
   ]
  }
 ],
 "metadata": {
  "kernelspec": {
   "display_name": "Python 3",
   "language": "python",
   "name": "python3"
  },
  "language_info": {
   "codemirror_mode": {
    "name": "ipython",
    "version": 3
   },
   "file_extension": ".py",
   "mimetype": "text/x-python",
   "name": "python",
   "nbconvert_exporter": "python",
   "pygments_lexer": "ipython3",
   "version": "3.13.4"
  }
 },
 "nbformat": 4,
 "nbformat_minor": 5
}
