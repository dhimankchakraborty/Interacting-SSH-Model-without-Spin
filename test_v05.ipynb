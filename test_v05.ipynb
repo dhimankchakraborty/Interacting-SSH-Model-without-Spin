{
 "cells": [
  {
   "cell_type": "code",
   "execution_count": 1,
   "id": "2e839b29",
   "metadata": {},
   "outputs": [],
   "source": [
    "import numpy as np\n",
    "import scipy as sp\n",
    "import matplotlib.pyplot as plt\n",
    "import itertools"
   ]
  },
  {
   "cell_type": "code",
   "execution_count": 10,
   "id": "252ed881",
   "metadata": {},
   "outputs": [],
   "source": [
    "def basis_generator(tot_sites, N_e): # Checked OK\n",
    "\n",
    "  basis = []\n",
    "\n",
    "  for combination_indices in itertools.combinations(range(tot_sites), N_e):\n",
    "    state = [0] * tot_sites\n",
    "    for index in combination_indices:\n",
    "      state[index] = 1\n",
    "    basis.append(state)\n",
    "  \n",
    "  return np.array(basis, dtype=np.float64)\n",
    "\n",
    "\n",
    "def hamiltonian_generator_w_int_diff_V(basis_set, tot_sites, v, w, V1, V2):\n",
    "  d = len(basis_set)\n",
    "  H = np.zeros((d, d))\n",
    "\n",
    "  for i in range(d):\n",
    "    for j in range(d):\n",
    "      H[j][i] = np.dot(hopping_on_ket_w_int_diff_V(basis_set[i], tot_sites, v, w), basis_set[j])\n",
    "  \n",
    "  for idx, state in enumerate(basis_set):\n",
    "        energy = 0.0\n",
    "        for i in range(len(state) - 1):\n",
    "          if i % 2 == 0:\n",
    "            energy += V1 * state[i] * state[i+1]\n",
    "          elif i % 2 != 1:\n",
    "            energy += V2 * state[i] * state[i+1]\n",
    "        H[idx, idx] += energy\n",
    "\n",
    "  return H\n",
    "\n",
    "\n",
    "def hopping_on_ket_w_int_diff_V(ket, tot_sites, v, w):\n",
    "  res = np.zeros((tot_sites), dtype=np.float64)\n",
    "  for i in range(tot_sites):\n",
    "    if i % 2 == 0 and i - 1 > 0:\n",
    "      if ket[i - 1] == 1:\n",
    "        res[i] += w\n",
    "      if ket[i + 1] == 1:\n",
    "        res[i] += v\n",
    "    elif i % 2 == 1 and i + 1 < tot_sites:\n",
    "      if ket[i - 1] == 1:\n",
    "        res[i] += v\n",
    "      if ket[i + 1] == 1:\n",
    "        res[i] += w\n",
    "    elif i == 0 and ket[i + 1] == 1:\n",
    "      res[i] += v\n",
    "    elif i == tot_sites - 1 and ket[i - 1] == 1:\n",
    "      res[i] += v\n",
    "  return res # normalize(res)"
   ]
  },
  {
   "cell_type": "code",
   "execution_count": 12,
   "id": "06756f94",
   "metadata": {},
   "outputs": [
    {
     "name": "stdout",
     "output_type": "stream",
     "text": [
      "[1. 1. 0. 0.] ------ [1. 1. 2. 0.]\n",
      "[1. 0. 1. 0.] ------ [0. 3. 0. 1.]\n",
      "[1. 0. 0. 1.] ------ [0. 1. 1. 0.]\n",
      "[0. 1. 1. 0.] ------ [1. 2. 2. 1.]\n",
      "[0. 1. 0. 1.] ------ [1. 0. 3. 0.]\n",
      "[0. 0. 1. 1.] ------ [0. 2. 1. 1.]\n",
      "[[3. 3. 1. 3. 1. 2.]\n",
      " [3. 0. 1. 3. 4. 1.]\n",
      " [1. 1. 0. 2. 1. 1.]\n",
      " [3. 3. 2. 4. 3. 3.]\n",
      " [1. 4. 1. 3. 0. 3.]\n",
      " [2. 1. 1. 3. 3. 3.]]\n",
      "True\n"
     ]
    }
   ],
   "source": [
    "N = 2\n",
    "w = 2\n",
    "v = 1\n",
    "V1 = 1\n",
    "V2 = 2\n",
    "tot_sites = 2 * N\n",
    "N_e = N\n",
    "\n",
    "basis_set = basis_generator(tot_sites, N_e)\n",
    "\n",
    "for i in range(len(basis_set)):\n",
    "    ket = basis_set[i]\n",
    "    print(f'{ket} ------ {hopping_on_ket_w_int_diff_V(ket, tot_sites, v, w)}')\n",
    "\n",
    "hamiltonian = hamiltonian_generator_w_int_diff_V(basis_set, tot_sites, v, w, V1, V2)\n",
    "\n",
    "print(hamiltonian)\n",
    "print(sp.linalg.ishermitian(hamiltonian))\n"
   ]
  }
 ],
 "metadata": {
  "kernelspec": {
   "display_name": "Python 3",
   "language": "python",
   "name": "python3"
  },
  "language_info": {
   "codemirror_mode": {
    "name": "ipython",
    "version": 3
   },
   "file_extension": ".py",
   "mimetype": "text/x-python",
   "name": "python",
   "nbconvert_exporter": "python",
   "pygments_lexer": "ipython3",
   "version": "3.13.4"
  }
 },
 "nbformat": 4,
 "nbformat_minor": 5
}
