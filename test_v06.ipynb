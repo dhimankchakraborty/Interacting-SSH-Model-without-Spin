{
 "cells": [
  {
   "cell_type": "code",
   "execution_count": 3,
   "id": "3cd912ce",
   "metadata": {},
   "outputs": [],
   "source": [
    "import numpy as np\n",
    "import matplotlib.pyplot as plt\n",
    "from itertools import combinations\n",
    "import scipy as sp"
   ]
  },
  {
   "cell_type": "code",
   "execution_count": null,
   "id": "9dbe30df",
   "metadata": {},
   "outputs": [],
   "source": [
    "def basis_set_generator(tot_sites, N_particles): # Checked OK\n",
    "    basis = []\n",
    "\n",
    "    for comb in combinations(range(tot_sites), N_particles):\n",
    "        state = [0] * tot_sites\n",
    "        for idx in comb:\n",
    "            state[idx] = 1\n",
    "        basis.append(state)\n",
    "    \n",
    "    return np.array(basis)\n",
    "\n",
    "\n",
    "def state_idx_mapping(basis_set): # Checked OK\n",
    "    return {tuple(state) : i for i, state in enumerate(basis_set)}\n",
    "\n",
    "\n",
    "def creation_operator(state, i): # Checked OK\n",
    "    if state[i] == 1:\n",
    "        return 0, None\n",
    "    \n",
    "    res_state = state.copy()\n",
    "    res_state[i] = 1\n",
    "\n",
    "    sign = 1\n",
    "    for j in range(i):\n",
    "        if res_state[j] == 1:\n",
    "            sign *= -1\n",
    "    \n",
    "    return sign, res_state\n",
    "\n",
    "\n",
    "def annihilation_operator(state, i): # Checked OK\n",
    "    if state[i] == 0:\n",
    "        return 0, None\n",
    "    \n",
    "    res_state = state.copy()\n",
    "    res_state[i] = 0\n",
    "\n",
    "    sign = 1\n",
    "    for j in range(i):\n",
    "        if res_state[j] == 1:\n",
    "            sign *= -1\n",
    "    \n",
    "    return sign, res_state\n",
    "\n",
    "\n",
    "def hopping_operator(state, initial_position, target_position):\n",
    "    sign_1, state_1 = annihilation_operator(state, initial_position)\n",
    "\n",
    "    if sign_1 == 0:\n",
    "        return 0, None\n",
    "\n",
    "    sign_2, state_2 = creation_operator(state_1, target_position)\n",
    "\n",
    "    return sign_1 * sign_2, state_2\n",
    "\n",
    "\n",
    "def hamiltonian_matrix_generator(basis_set, v, w):\n",
    "    dim = len(basis_set)"
   ]
  },
  {
   "cell_type": "code",
   "execution_count": 10,
   "id": "36da59a7",
   "metadata": {},
   "outputs": [
    {
     "name": "stdout",
     "output_type": "stream",
     "text": [
      "[[1 1 0 0]\n",
      " [1 0 1 0]\n",
      " [1 0 0 1]\n",
      " [0 1 1 0]\n",
      " [0 1 0 1]\n",
      " [0 0 1 1]]\n",
      "{(np.int64(1), np.int64(1), np.int64(0), np.int64(0)): 0, (np.int64(1), np.int64(0), np.int64(1), np.int64(0)): 1, (np.int64(1), np.int64(0), np.int64(0), np.int64(1)): 2, (np.int64(0), np.int64(1), np.int64(1), np.int64(0)): 3, (np.int64(0), np.int64(1), np.int64(0), np.int64(1)): 4, (np.int64(0), np.int64(0), np.int64(1), np.int64(1)): 5}\n"
     ]
    }
   ],
   "source": [
    "N_sites = 2\n",
    "tot_sites = N_sites * 2\n",
    "N_particles = N_sites\n",
    "\n",
    "basis_set = basis_set_generator(tot_sites, N_particles)\n",
    "print(basis_set)\n",
    "state_idx_dict = state_idx_mapping(basis_set)\n",
    "print(state_idx_dict)"
   ]
  },
  {
   "cell_type": "code",
   "execution_count": 18,
   "id": "7167a298",
   "metadata": {},
   "outputs": [
    {
     "name": "stdout",
     "output_type": "stream",
     "text": [
      "[1 1 0 0] ---- 0, 1: (0, None)\n",
      "[1 1 0 0] ---- 0, -1: (1, array([0, 1, 0, 1]))\n",
      "[1 1 0 0] ---- 1, 2: (1, array([1, 0, 1, 0]))\n",
      "[1 1 0 0] ---- 1, 0: (0, None)\n",
      "[1 1 0 0] ---- 2, 3: (0, None)\n",
      "[1 1 0 0] ---- 2, 1: (0, None)\n",
      "[1 1 0 0] ---- 3, 2: (0, None)\n",
      "[1 0 1 0] ---- 0, 1: (1, array([0, 1, 1, 0]))\n",
      "[1 0 1 0] ---- 0, -1: (1, array([0, 0, 1, 1]))\n",
      "[1 0 1 0] ---- 1, 2: (0, None)\n",
      "[1 0 1 0] ---- 1, 0: (0, None)\n",
      "[1 0 1 0] ---- 2, 3: (1, array([1, 0, 0, 1]))\n",
      "[1 0 1 0] ---- 2, 1: (1, array([1, 1, 0, 0]))\n",
      "[1 0 1 0] ---- 3, 2: (0, None)\n",
      "[1 0 0 1] ---- 0, 1: (1, array([0, 1, 0, 1]))\n",
      "[1 0 0 1] ---- 0, -1: (0, None)\n",
      "[1 0 0 1] ---- 1, 2: (0, None)\n",
      "[1 0 0 1] ---- 1, 0: (0, None)\n",
      "[1 0 0 1] ---- 2, 3: (0, None)\n",
      "[1 0 0 1] ---- 2, 1: (0, None)\n",
      "[1 0 0 1] ---- 3, 2: (1, array([1, 0, 1, 0]))\n",
      "[0 1 1 0] ---- 0, 1: (0, None)\n",
      "[0 1 1 0] ---- 0, -1: (0, None)\n",
      "[0 1 1 0] ---- 1, 2: (0, None)\n",
      "[0 1 1 0] ---- 1, 0: (1, array([1, 0, 1, 0]))\n",
      "[0 1 1 0] ---- 2, 3: (1, array([0, 1, 0, 1]))\n",
      "[0 1 1 0] ---- 2, 1: (0, None)\n",
      "[0 1 1 0] ---- 3, 2: (0, None)\n",
      "[0 1 0 1] ---- 0, 1: (0, None)\n",
      "[0 1 0 1] ---- 0, -1: (0, None)\n",
      "[0 1 0 1] ---- 1, 2: (1, array([0, 0, 1, 1]))\n",
      "[0 1 0 1] ---- 1, 0: (1, array([1, 0, 0, 1]))\n",
      "[0 1 0 1] ---- 2, 3: (0, None)\n",
      "[0 1 0 1] ---- 2, 1: (0, None)\n",
      "[0 1 0 1] ---- 3, 2: (1, array([0, 1, 1, 0]))\n",
      "[0 0 1 1] ---- 0, 1: (0, None)\n",
      "[0 0 1 1] ---- 0, -1: (0, None)\n",
      "[0 0 1 1] ---- 1, 2: (0, None)\n",
      "[0 0 1 1] ---- 1, 0: (0, None)\n",
      "[0 0 1 1] ---- 2, 3: (0, None)\n",
      "[0 0 1 1] ---- 2, 1: (1, array([0, 1, 0, 1]))\n",
      "[0 0 1 1] ---- 3, 2: (0, None)\n"
     ]
    }
   ],
   "source": [
    "for state in basis_set:\n",
    "    for i in range(tot_sites):\n",
    "        if i + 1 <= tot_sites - 1:\n",
    "            print(f\"{state} ---- {i}, {i + 1}: {hopping_operator(state, i, i + 1)}\")\n",
    "        print(f\"{state} ---- {i}, {i - 1}: {hopping_operator(state, i, i - 1)}\")\n",
    "\n",
    "\n",
    "# state = basis_set[1]\n",
    "# for i in range(tot_sites):\n",
    "#     print(f\"{state} ---- {i}, {i + 1}: {hopping_operator(state, i, i + 1)}\")\n",
    "#     print(f\"{state} ---- {i}, {i - 1}: {hopping_operator(state, i, i - 1)}\")"
   ]
  },
  {
   "cell_type": "code",
   "execution_count": 6,
   "id": "0f132bd7",
   "metadata": {},
   "outputs": [
    {
     "name": "stdout",
     "output_type": "stream",
     "text": [
      "(0, None)\n",
      "[1 1 0 0] --- 0 : (1, array([0, 1, 0, 0]))\n",
      "[1 1 0 0] --- 1 : (-1, array([1, 0, 0, 0]))\n",
      "[1 1 0 0] --- 2 : (0, None)\n",
      "[1 1 0 0] --- 3 : (0, None)\n",
      "[1 0 1 0] --- 0 : (1, array([0, 0, 1, 0]))\n",
      "[1 0 1 0] --- 1 : (0, None)\n",
      "[1 0 1 0] --- 2 : (-1, array([1, 0, 0, 0]))\n",
      "[1 0 1 0] --- 3 : (0, None)\n",
      "[1 0 0 1] --- 0 : (1, array([0, 0, 0, 1]))\n",
      "[1 0 0 1] --- 1 : (0, None)\n",
      "[1 0 0 1] --- 2 : (0, None)\n",
      "[1 0 0 1] --- 3 : (-1, array([1, 0, 0, 0]))\n",
      "[0 1 1 0] --- 0 : (0, None)\n",
      "[0 1 1 0] --- 1 : (1, array([0, 0, 1, 0]))\n",
      "[0 1 1 0] --- 2 : (-1, array([0, 1, 0, 0]))\n",
      "[0 1 1 0] --- 3 : (0, None)\n",
      "[0 1 0 1] --- 0 : (0, None)\n",
      "[0 1 0 1] --- 1 : (1, array([0, 0, 0, 1]))\n",
      "[0 1 0 1] --- 2 : (0, None)\n",
      "[0 1 0 1] --- 3 : (-1, array([0, 1, 0, 0]))\n",
      "[0 0 1 1] --- 0 : (0, None)\n",
      "[0 0 1 1] --- 1 : (0, None)\n",
      "[0 0 1 1] --- 2 : (1, array([0, 0, 0, 1]))\n",
      "[0 0 1 1] --- 3 : (-1, array([0, 0, 1, 0]))\n"
     ]
    }
   ],
   "source": [
    "print(creation_operator(basis_set[0], 1))\n",
    "for state in basis_set:\n",
    "    for j in range(tot_sites):\n",
    "        # print(f\"{state} --- {j} : {creation_operator(state, j)}\") \n",
    "        print(f\"{state} --- {j} : {annihilation_operator(state, j)}\") "
   ]
  },
  {
   "cell_type": "code",
   "execution_count": 21,
   "id": "d9be8195",
   "metadata": {},
   "outputs": [
    {
     "name": "stdout",
     "output_type": "stream",
     "text": [
      "(array([0, 0, 1, 1, 1, 1, 2, 2, 3, 3, 5, 5]), array([0, 3, 0, 1, 2, 3, 0, 1, 2, 3, 1, 2]))\n",
      "True\n"
     ]
    }
   ],
   "source": [
    "print(np.where(basis_set == basis_set[1]))\n",
    "basis = tuple(basis_set[1].copy())\n",
    "print(tuple(basis_set[1]) == basis)"
   ]
  }
 ],
 "metadata": {
  "kernelspec": {
   "display_name": "Python 3",
   "language": "python",
   "name": "python3"
  },
  "language_info": {
   "codemirror_mode": {
    "name": "ipython",
    "version": 3
   },
   "file_extension": ".py",
   "mimetype": "text/x-python",
   "name": "python",
   "nbconvert_exporter": "python",
   "pygments_lexer": "ipython3",
   "version": "3.13.4"
  }
 },
 "nbformat": 4,
 "nbformat_minor": 5
}
