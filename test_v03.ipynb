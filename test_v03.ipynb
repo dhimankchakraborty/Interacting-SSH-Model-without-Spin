{
 "cells": [
  {
   "cell_type": "code",
   "execution_count": 1,
   "id": "e101b11a",
   "metadata": {},
   "outputs": [],
   "source": [
    "N = 6  # number of sites\n",
    "V = 1.0  # coupling strength"
   ]
  },
  {
   "cell_type": "code",
   "execution_count": 2,
   "id": "898f5e19",
   "metadata": {},
   "outputs": [],
   "source": [
    "from itertools import combinations\n",
    "import numpy as np\n",
    "\n",
    "def generate_basis(N, N_particles):\n",
    "    basis = []\n",
    "    sites = list(range(N))\n",
    "    for comb in combinations(sites, N_particles):\n",
    "        state = np.zeros(N, dtype=int)\n",
    "        state[list(comb)] = 1\n",
    "        basis.append(state)\n",
    "    return basis"
   ]
  },
  {
   "cell_type": "code",
   "execution_count": 3,
   "id": "ad3f84ed",
   "metadata": {},
   "outputs": [
    {
     "name": "stdout",
     "output_type": "stream",
     "text": [
      "[[1 1 0 0]\n",
      " [1 0 1 0]\n",
      " [1 0 0 1]\n",
      " [0 1 1 0]\n",
      " [0 1 0 1]\n",
      " [0 0 1 1]]\n"
     ]
    }
   ],
   "source": [
    "print(np.array(generate_basis(4, 2)))"
   ]
  },
  {
   "cell_type": "code",
   "execution_count": 5,
   "id": "ea2dcbb2",
   "metadata": {},
   "outputs": [],
   "source": [
    "def build_hamiltonian(basis, V):\n",
    "    size = len(basis)\n",
    "    H = np.zeros((size, size), dtype=float)\n",
    "\n",
    "    for idx, state in enumerate(basis):\n",
    "        energy = 0.0\n",
    "        for i in range(len(state) - 1):\n",
    "            energy += V * state[i] * state[i+1]\n",
    "        H[idx, idx] = energy\n",
    "\n",
    "    return H"
   ]
  },
  {
   "cell_type": "code",
   "execution_count": 9,
   "id": "eb717312",
   "metadata": {},
   "outputs": [
    {
     "ename": "KeyboardInterrupt",
     "evalue": "",
     "output_type": "error",
     "traceback": [
      "\u001b[31m---------------------------------------------------------------------------\u001b[39m",
      "\u001b[31mKeyboardInterrupt\u001b[39m                         Traceback (most recent call last)",
      "\u001b[36mCell\u001b[39m\u001b[36m \u001b[39m\u001b[32mIn[9]\u001b[39m\u001b[32m, line 2\u001b[39m\n\u001b[32m      1\u001b[39m \u001b[38;5;28;01mimport\u001b[39;00m\u001b[38;5;250m \u001b[39m\u001b[34;01mscipy\u001b[39;00m\u001b[38;5;250m \u001b[39m\u001b[38;5;28;01mas\u001b[39;00m\u001b[38;5;250m \u001b[39m\u001b[34;01msp\u001b[39;00m\n\u001b[32m----> \u001b[39m\u001b[32m2\u001b[39m basis = \u001b[43mgenerate_basis\u001b[49m\u001b[43m(\u001b[49m\u001b[32;43m500\u001b[39;49m\u001b[43m,\u001b[49m\u001b[43m \u001b[49m\u001b[32;43m250\u001b[39;49m\u001b[43m)\u001b[49m\n\u001b[32m      3\u001b[39m H = build_hamiltonian(basis, V)\n\u001b[32m      6\u001b[39m \u001b[38;5;28mprint\u001b[39m(np.array(H))\n",
      "\u001b[36mCell\u001b[39m\u001b[36m \u001b[39m\u001b[32mIn[2]\u001b[39m\u001b[32m, line 8\u001b[39m, in \u001b[36mgenerate_basis\u001b[39m\u001b[34m(N, N_particles)\u001b[39m\n\u001b[32m      6\u001b[39m sites = \u001b[38;5;28mlist\u001b[39m(\u001b[38;5;28mrange\u001b[39m(N))\n\u001b[32m      7\u001b[39m \u001b[38;5;28;01mfor\u001b[39;00m comb \u001b[38;5;129;01min\u001b[39;00m combinations(sites, N_particles):\n\u001b[32m----> \u001b[39m\u001b[32m8\u001b[39m     state = \u001b[43mnp\u001b[49m\u001b[43m.\u001b[49m\u001b[43mzeros\u001b[49m\u001b[43m(\u001b[49m\u001b[43mN\u001b[49m\u001b[43m,\u001b[49m\u001b[43m \u001b[49m\u001b[43mdtype\u001b[49m\u001b[43m=\u001b[49m\u001b[38;5;28;43mint\u001b[39;49m\u001b[43m)\u001b[49m\n\u001b[32m      9\u001b[39m     state[\u001b[38;5;28mlist\u001b[39m(comb)] = \u001b[32m1\u001b[39m\n\u001b[32m     10\u001b[39m     basis.append(state)\n",
      "\u001b[31mKeyboardInterrupt\u001b[39m: "
     ]
    }
   ],
   "source": [
    "import scipy as sp\n",
    "basis = generate_basis(500, 250)\n",
    "H = build_hamiltonian(basis, V)\n",
    "\n",
    "\n",
    "print(np.array(H))\n",
    "print(sp.linalg.ishermitian(H))"
   ]
  }
 ],
 "metadata": {
  "kernelspec": {
   "display_name": "Python 3",
   "language": "python",
   "name": "python3"
  },
  "language_info": {
   "codemirror_mode": {
    "name": "ipython",
    "version": 3
   },
   "file_extension": ".py",
   "mimetype": "text/x-python",
   "name": "python",
   "nbconvert_exporter": "python",
   "pygments_lexer": "ipython3",
   "version": "3.13.4"
  }
 },
 "nbformat": 4,
 "nbformat_minor": 5
}
