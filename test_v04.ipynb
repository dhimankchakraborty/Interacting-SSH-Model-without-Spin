{
 "cells": [
  {
   "cell_type": "code",
   "execution_count": null,
   "id": "509e9fde",
   "metadata": {},
   "outputs": [],
   "source": [
    "import numpy as np\n",
    "from scipy.sparse import csr_matrix, csc_matrix\n",
    "# from scipy.sparse.linalg import eigh\n",
    "import matplotlib.pyplot as plt\n",
    "from itertools import combinations"
   ]
  },
  {
   "cell_type": "code",
   "execution_count": 5,
   "id": "777f47c7",
   "metadata": {},
   "outputs": [],
   "source": [
    "# Physical parameters\n",
    "N_unit_cells = 2       # Number of unit cells\n",
    "v = 1                  # Intra-cell hopping\n",
    "w = 2                  # Inter-cell hopping\n",
    "\n",
    "# Derived quantities\n",
    "N_orbitals = 2 * N_unit_cells  # Total fermionic orbitals (A and B per unit cell)\n",
    "N_particles = N_unit_cells     # Half-filled system"
   ]
  },
  {
   "cell_type": "code",
   "execution_count": 6,
   "id": "495b8ef0",
   "metadata": {},
   "outputs": [
    {
     "name": "stdout",
     "output_type": "stream",
     "text": [
      "[(1, 1, 0, 0), (1, 0, 1, 0), (1, 0, 0, 1), (0, 1, 1, 0), (0, 1, 0, 1), (0, 0, 1, 1)]\n"
     ]
    }
   ],
   "source": [
    "def generate_basis(N_sites, N_particles):\n",
    "    \"\"\"Generate all Fock basis states with N_particles electrons.\"\"\"\n",
    "    basis = []\n",
    "    for comb in combinations(range(N_sites), N_particles):\n",
    "        state = [0] * N_sites\n",
    "        for idx in comb:\n",
    "            state[idx] = 1\n",
    "        basis.append(tuple(state))\n",
    "    return basis\n",
    "\n",
    "basis = generate_basis(N_orbitals, N_particles)\n",
    "print(basis)\n",
    "# print(f\"Dimension of Hilbert space: {len(basis)}\")"
   ]
  },
  {
   "cell_type": "code",
   "execution_count": 7,
   "id": "11b75ab5",
   "metadata": {},
   "outputs": [
    {
     "name": "stdout",
     "output_type": "stream",
     "text": [
      "{(1, 1, 0, 0): 0, (1, 0, 1, 0): 1, (1, 0, 0, 1): 2, (0, 1, 1, 0): 3, (0, 1, 0, 1): 4, (0, 0, 1, 1): 5}\n"
     ]
    }
   ],
   "source": [
    "def fock_state_to_index(basis):\n",
    "    \"\"\"Map each Fock state to its index in the basis.\"\"\"\n",
    "    \n",
    "    return {state: i for i, state in enumerate(basis)}\n",
    "\n",
    "state_to_idx = fock_state_to_index(basis)\n",
    "print(state_to_idx)"
   ]
  },
  {
   "cell_type": "code",
   "execution_count": 8,
   "id": "7db404cb",
   "metadata": {},
   "outputs": [],
   "source": [
    "def apply_annihilation(state, i):\n",
    "    if state[i] == 0:\n",
    "        return None, 0\n",
    "    new_state = list(state)\n",
    "    new_state[i] = 0\n",
    "    sign = 1\n",
    "    for j in range(i):\n",
    "        if state[j] == 1:\n",
    "            sign *= -1\n",
    "    return tuple(new_state), sign\n",
    "\n",
    "def apply_creation(state, i):\n",
    "    if state[i] == 1:\n",
    "        return None, 0\n",
    "    new_state = list(state)\n",
    "    new_state[i] = 1\n",
    "    sign = 1\n",
    "    for j in range(i):\n",
    "        if state[j] == 1:\n",
    "            sign *= -1\n",
    "    return tuple(new_state), sign"
   ]
  },
  {
   "cell_type": "code",
   "execution_count": null,
   "id": "34194205",
   "metadata": {},
   "outputs": [
    {
     "name": "stdout",
     "output_type": "stream",
     "text": [
      "[[0.+0.j 2.+0.j 0.+0.j 0.+0.j 0.+0.j 0.+0.j]\n",
      " [2.+0.j 0.+0.j 1.+0.j 1.+0.j 0.+0.j 0.+0.j]\n",
      " [0.+0.j 1.+0.j 0.+0.j 0.+0.j 1.+0.j 0.+0.j]\n",
      " [0.+0.j 1.+0.j 0.+0.j 0.+0.j 1.+0.j 0.+0.j]\n",
      " [0.+0.j 0.+0.j 1.+0.j 1.+0.j 0.+0.j 2.+0.j]\n",
      " [0.+0.j 0.+0.j 0.+0.j 0.+0.j 2.+0.j 0.+0.j]]\n"
     ]
    }
   ],
   "source": [
    "from scipy.sparse import csr_matrix\n",
    "\n",
    "def build_Hamiltonian(basis, N_unit_cells, v, w):\n",
    "    dim = len(basis)\n",
    "    H = csr_matrix((dim, dim), dtype=np.complex128)\n",
    "    state_to_idx = fock_state_to_index(basis)\n",
    "\n",
    "    for idx, state in enumerate(basis):\n",
    "        # Intra-cell hopping: A <-> B\n",
    "        for i in range(N_unit_cells):\n",
    "            site_A = 2*i\n",
    "            site_B = 2*i + 1\n",
    "\n",
    "            # B -> A\n",
    "            down_state, sign_down = apply_annihilation(state, site_B)\n",
    "            if down_state is not None:\n",
    "                up_state, sign_up = apply_creation(down_state, site_A)\n",
    "                if up_state in state_to_idx:\n",
    "                    jdx = state_to_idx[up_state]\n",
    "                    H[jdx, idx] += v * sign_up * sign_down\n",
    "\n",
    "            # A -> B (h.c.)\n",
    "            down_state, sign_down = apply_annihilation(state, site_A)\n",
    "            if down_state is not None:\n",
    "                up_state, sign_up = apply_creation(down_state, site_B)\n",
    "                if up_state in state_to_idx:\n",
    "                    jdx = state_to_idx[up_state]\n",
    "                    H[jdx, idx] += v * sign_up * sign_down\n",
    "\n",
    "        # Inter-cell hopping: A_{i+1} <-> B_i\n",
    "        for i in range(N_unit_cells - 1):\n",
    "            site_B = 2*i + 1\n",
    "            site_A_next = 2*(i+1)\n",
    "\n",
    "            # B_i -> A_{i+1}\n",
    "            down_state, sign_down = apply_annihilation(state, site_B)\n",
    "            if down_state is not None:\n",
    "                up_state, sign_up = apply_creation(down_state, site_A_next)\n",
    "                if up_state in state_to_idx:\n",
    "                    jdx = state_to_idx[up_state]\n",
    "                    H[jdx, idx] += w * sign_up * sign_down\n",
    "\n",
    "            # A_{i+1} -> B_i (h.c.)\n",
    "            down_state, sign_down = apply_annihilation(state, site_A_next)\n",
    "            if down_state is not None:\n",
    "                up_state, sign_up = apply_creation(down_state, site_B)\n",
    "                if up_state in state_to_idx:\n",
    "                    jdx = state_to_idx[up_state]\n",
    "                    H[jdx, idx] += w * sign_up * sign_down\n",
    "\n",
    "    return H\n",
    "\n",
    "H = build_Hamiltonian(basis, N_unit_cells, v, w)\n",
    "print(H.toarray())"
   ]
  },
  {
   "cell_type": "code",
   "execution_count": 19,
   "id": "3a340f45",
   "metadata": {},
   "outputs": [
    {
     "name": "stdout",
     "output_type": "stream",
     "text": [
      "Lowest eigenvalues:\n",
      "[-2.82842712e+00 -2.00000000e+00  0.00000000e+00  6.41898740e-16\n",
      "  2.00000000e+00  2.82842712e+00]\n"
     ]
    }
   ],
   "source": [
    "\n",
    "eigenvalues, eigenvectors = np.linalg.eigh(H.toarray())\n",
    "\n",
    "# Sort and print eigenvalues\n",
    "print(\"Lowest eigenvalues:\")\n",
    "print(np.sort(eigenvalues))\n"
   ]
  },
  {
   "cell_type": "code",
   "execution_count": 21,
   "id": "c1b05d0e",
   "metadata": {},
   "outputs": [
    {
     "ename": "UFuncTypeError",
     "evalue": "Cannot cast ufunc 'add' output from dtype('complex128') to dtype('float64') with casting rule 'same_kind'",
     "output_type": "error",
     "traceback": [
      "\u001b[31m---------------------------------------------------------------------------\u001b[39m",
      "\u001b[31mUFuncTypeError\u001b[39m                            Traceback (most recent call last)",
      "\u001b[36mCell\u001b[39m\u001b[36m \u001b[39m\u001b[32mIn[21]\u001b[39m\u001b[32m, line 6\u001b[39m\n\u001b[32m      4\u001b[39m \u001b[38;5;28;01mfor\u001b[39;00m j, state \u001b[38;5;129;01min\u001b[39;00m \u001b[38;5;28menumerate\u001b[39m(eigenvectors):\n\u001b[32m      5\u001b[39m     \u001b[38;5;28;01mfor\u001b[39;00m i, weight \u001b[38;5;129;01min\u001b[39;00m \u001b[38;5;28menumerate\u001b[39m(state):\n\u001b[32m----> \u001b[39m\u001b[32m6\u001b[39m         \u001b[43mwf_ps\u001b[49m\u001b[43m[\u001b[49m\u001b[43mj\u001b[49m\u001b[43m]\u001b[49m\u001b[43m \u001b[49m\u001b[43m+\u001b[49m\u001b[43m=\u001b[49m\u001b[43m \u001b[49m\u001b[43mweight\u001b[49m\u001b[43m \u001b[49m\u001b[43m*\u001b[49m\u001b[43m \u001b[49m\u001b[43mbasis\u001b[49m\u001b[43m[\u001b[49m\u001b[43mi\u001b[49m\u001b[43m]\u001b[49m\n",
      "\u001b[31mUFuncTypeError\u001b[39m: Cannot cast ufunc 'add' output from dtype('complex128') to dtype('float64') with casting rule 'same_kind'"
     ]
    }
   ],
   "source": [
    "wf_ps = np.zeros((len(basis), len(basis[0])))\n",
    "\n",
    "basis = np.array(basis)\n",
    "for j, state in enumerate(eigenvectors):\n",
    "    for i, weight in enumerate(state):\n",
    "        wf_ps[j] += weight * basis[i]"
   ]
  }
 ],
 "metadata": {
  "kernelspec": {
   "display_name": "Python 3",
   "language": "python",
   "name": "python3"
  },
  "language_info": {
   "codemirror_mode": {
    "name": "ipython",
    "version": 3
   },
   "file_extension": ".py",
   "mimetype": "text/x-python",
   "name": "python",
   "nbconvert_exporter": "python",
   "pygments_lexer": "ipython3",
   "version": "3.13.4"
  }
 },
 "nbformat": 4,
 "nbformat_minor": 5
}
